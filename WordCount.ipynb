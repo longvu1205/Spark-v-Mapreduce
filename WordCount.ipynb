{
  "nbformat": 4,
  "nbformat_minor": 0,
  "metadata": {
    "colab": {
      "name": "WordCount.ipynb",
      "provenance": [],
      "collapsed_sections": []
    },
    "kernelspec": {
      "name": "python3",
      "display_name": "Python 3"
    }
  },
  "cells": [
    {
      "cell_type": "code",
      "metadata": {
        "colab": {
          "base_uri": "https://localhost:8080/"
        },
        "id": "UCf6Cee6kIoy",
        "outputId": "7c27bf41-ac34-4467-8400-ca1e1f2d77b9"
      },
      "source": [
        "!pip install pyspark"
      ],
      "execution_count": null,
      "outputs": [
        {
          "output_type": "stream",
          "text": [
            "Collecting pyspark\n",
            "\u001b[?25l  Downloading https://files.pythonhosted.org/packages/f0/26/198fc8c0b98580f617cb03cb298c6056587b8f0447e20fa40c5b634ced77/pyspark-3.0.1.tar.gz (204.2MB)\n",
            "\u001b[K     |████████████████████████████████| 204.2MB 68kB/s \n",
            "\u001b[?25hCollecting py4j==0.10.9\n",
            "\u001b[?25l  Downloading https://files.pythonhosted.org/packages/9e/b6/6a4fb90cd235dc8e265a6a2067f2a2c99f0d91787f06aca4bcf7c23f3f80/py4j-0.10.9-py2.py3-none-any.whl (198kB)\n",
            "\u001b[K     |████████████████████████████████| 204kB 42.4MB/s \n",
            "\u001b[?25hBuilding wheels for collected packages: pyspark\n",
            "  Building wheel for pyspark (setup.py) ... \u001b[?25l\u001b[?25hdone\n",
            "  Created wheel for pyspark: filename=pyspark-3.0.1-py2.py3-none-any.whl size=204612242 sha256=23b08fc9e6ee1f9541bfe004a8259d17404f7261df3e331e132d23d85cf63df9\n",
            "  Stored in directory: /root/.cache/pip/wheels/5e/bd/07/031766ca628adec8435bb40f0bd83bb676ce65ff4007f8e73f\n",
            "Successfully built pyspark\n",
            "Installing collected packages: py4j, pyspark\n",
            "Successfully installed py4j-0.10.9 pyspark-3.0.1\n"
          ],
          "name": "stdout"
        }
      ]
    },
    {
      "cell_type": "code",
      "metadata": {
        "id": "5EH4JW6Bkfde"
      },
      "source": [
        "import pyspark\r\n",
        "from pyspark import SparkConf,SparkContext\r\n",
        "import collections\r\n",
        "from collections import Counter\r\n"
      ],
      "execution_count": null,
      "outputs": []
    },
    {
      "cell_type": "code",
      "metadata": {
        "colab": {
          "base_uri": "https://localhost:8080/"
        },
        "id": "sn70Oi6Zkhru",
        "outputId": "8bd11d24-627e-491b-a568-e65e7d54f015"
      },
      "source": [
        "conf = SparkConf().setMaster(\"local\").setAppName(\"word counting\")\r\n",
        "sc = SparkContext.getOrCreate(conf=conf)\r\n",
        "\r\n",
        "text_file=sc.textFile(\"/content/text.txt\")\r\n",
        "print(text_file.first())"
      ],
      "execution_count": null,
      "outputs": [
        {
          "output_type": "stream",
          "text": [
            "Nha Trang is well known for its beaches and scuba diving and has developed into a popular destination for international tourists, attracting large numbers of backpackers, as well as more affluent travelers on the south-east Asia circuit; it is already very popular with Vietnamese tourists, with Nha Trang Bay widely considered as among the world's most beautiful bays.[citation needed] Tourists are welcomed to participate in the Sea Festival, held biennially. Nha Trang was the site of the Miss Universe 2008 Pageant on July 14, 2008 and Miss Earth 2010 was held on December 4, 2010. It was also the site for the April 14, 2015 season 8 finale of Face Off. Nha Trang was approved to host the 2016 Asian Beach Games.\n"
          ],
          "name": "stdout"
        }
      ]
    },
    {
      "cell_type": "code",
      "metadata": {
        "id": "OnmXNVGKllv2",
        "colab": {
          "base_uri": "https://localhost:8080/"
        },
        "outputId": "33df59d1-e081-42a9-ed04-e8571e152615"
      },
      "source": [
        "text=text_file.first().split(\" \")\r\n",
        "rdd= sc.parallelize(text)\r\n",
        "counts= rdd.map(lambda word:(word,1))\r\n",
        "print(counts.collect())"
      ],
      "execution_count": null,
      "outputs": [
        {
          "output_type": "stream",
          "text": [
            "[('Nha', 1), ('Trang', 1), ('is', 1), ('well', 1), ('known', 1), ('for', 1), ('its', 1), ('beaches', 1), ('and', 1), ('scuba', 1), ('diving', 1), ('and', 1), ('has', 1), ('developed', 1), ('into', 1), ('a', 1), ('popular', 1), ('destination', 1), ('for', 1), ('international', 1), ('tourists,', 1), ('attracting', 1), ('large', 1), ('numbers', 1), ('of', 1), ('backpackers,', 1), ('as', 1), ('well', 1), ('as', 1), ('more', 1), ('affluent', 1), ('travelers', 1), ('on', 1), ('the', 1), ('south-east', 1), ('Asia', 1), ('circuit;', 1), ('it', 1), ('is', 1), ('already', 1), ('very', 1), ('popular', 1), ('with', 1), ('Vietnamese', 1), ('tourists,', 1), ('with', 1), ('Nha', 1), ('Trang', 1), ('Bay', 1), ('widely', 1), ('considered', 1), ('as', 1), ('among', 1), ('the', 1), (\"world's\", 1), ('most', 1), ('beautiful', 1), ('bays.[citation', 1), ('needed]', 1), ('Tourists', 1), ('are', 1), ('welcomed', 1), ('to', 1), ('participate', 1), ('in', 1), ('the', 1), ('Sea', 1), ('Festival,', 1), ('held', 1), ('biennially.', 1), ('Nha', 1), ('Trang', 1), ('was', 1), ('the', 1), ('site', 1), ('of', 1), ('the', 1), ('Miss', 1), ('Universe', 1), ('2008', 1), ('Pageant', 1), ('on', 1), ('July', 1), ('14,', 1), ('2008', 1), ('and', 1), ('Miss', 1), ('Earth', 1), ('2010', 1), ('was', 1), ('held', 1), ('on', 1), ('December', 1), ('4,', 1), ('2010.', 1), ('It', 1), ('was', 1), ('also', 1), ('the', 1), ('site', 1), ('for', 1), ('the', 1), ('April', 1), ('14,', 1), ('2015', 1), ('season', 1), ('8', 1), ('finale', 1), ('of', 1), ('Face', 1), ('Off.', 1), ('Nha', 1), ('Trang', 1), ('was', 1), ('approved', 1), ('to', 1), ('host', 1), ('the', 1), ('2016', 1), ('Asian', 1), ('Beach', 1), ('Games.', 1)]\n"
          ],
          "name": "stdout"
        }
      ]
    },
    {
      "cell_type": "code",
      "metadata": {
        "colab": {
          "base_uri": "https://localhost:8080/"
        },
        "id": "KGZzRAEXl6T7",
        "outputId": "a4e64996-4e54-4f26-dcb5-03d3d8a7a1a0"
      },
      "source": [
        "words= counts.reduceByKey(lambda x,y: x+y)\r\n",
        "print(words.collect())"
      ],
      "execution_count": null,
      "outputs": [
        {
          "output_type": "stream",
          "text": [
            "[('Nha', 4), ('Trang', 4), ('is', 2), ('well', 2), ('known', 1), ('for', 3), ('its', 1), ('beaches', 1), ('and', 3), ('scuba', 1), ('diving', 1), ('has', 1), ('developed', 1), ('into', 1), ('a', 1), ('popular', 2), ('destination', 1), ('international', 1), ('tourists,', 2), ('attracting', 1), ('large', 1), ('numbers', 1), ('of', 3), ('backpackers,', 1), ('as', 3), ('more', 1), ('affluent', 1), ('travelers', 1), ('on', 3), ('the', 8), ('south-east', 1), ('Asia', 1), ('circuit;', 1), ('it', 1), ('already', 1), ('very', 1), ('with', 2), ('Vietnamese', 1), ('Bay', 1), ('widely', 1), ('considered', 1), ('among', 1), (\"world's\", 1), ('most', 1), ('beautiful', 1), ('bays.[citation', 1), ('needed]', 1), ('Tourists', 1), ('are', 1), ('welcomed', 1), ('to', 2), ('participate', 1), ('in', 1), ('Sea', 1), ('Festival,', 1), ('held', 2), ('biennially.', 1), ('was', 4), ('site', 2), ('Miss', 2), ('Universe', 1), ('2008', 2), ('Pageant', 1), ('July', 1), ('14,', 2), ('Earth', 1), ('2010', 1), ('December', 1), ('4,', 1), ('2010.', 1), ('It', 1), ('also', 1), ('April', 1), ('2015', 1), ('season', 1), ('8', 1), ('finale', 1), ('Face', 1), ('Off.', 1), ('approved', 1), ('host', 1), ('2016', 1), ('Asian', 1), ('Beach', 1), ('Games.', 1)]\n"
          ],
          "name": "stdout"
        }
      ]
    },
    {
      "cell_type": "code",
      "metadata": {
        "colab": {
          "base_uri": "https://localhost:8080/"
        },
        "id": "S8QSV7MWvP9T",
        "outputId": "f543c18f-43a9-4880-823b-5775f6fbff51"
      },
      "source": [
        "Counter(text)\r\n",
        "Counter(text).most_common(3)\r\n"
      ],
      "execution_count": null,
      "outputs": [
        {
          "output_type": "execute_result",
          "data": {
            "text/plain": [
              "[('the', 8), ('Nha', 4), ('Trang', 4)]"
            ]
          },
          "metadata": {
            "tags": []
          },
          "execution_count": 7
        }
      ]
    }
  ]
}